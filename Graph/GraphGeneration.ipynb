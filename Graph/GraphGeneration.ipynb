{
 "cells": [
  {
   "cell_type": "code",
   "execution_count": null,
   "id": "885db7c6",
   "metadata": {},
   "outputs": [],
   "source": [
    "import torch\n",
    "import torch.nn as nn\n",
    "import torch_geometric\n",
    "from torch_geometric.nn import GATConv\n",
    "from torch_geometric.data import Data\n",
    "\n",
    "# Define a simple graph with 5 nodes\n",
    "# Edges between rooms (node indices)\n",
    "edge_index = torch.tensor([\n",
    "    [0, 1, 1, 2, 2, 3, 3, 4],\n",
    "    [1, 0, 2, 1, 3, 2, 4, 3]\n",
    "], dtype=torch.long)\n",
    "\n",
    "# Room features (e.g., room types, sizes, etc.)\n",
    "x = torch.randn(5, 16)  # 5 rooms, each with 16 features\n",
    "\n",
    "# Create the PyG data object\n",
    "data = Data(x=x, edge_index=edge_index)\n"
   ]
  },
  {
   "cell_type": "code",
   "execution_count": null,
   "id": "b7d082b7",
   "metadata": {},
   "outputs": [],
   "source": [
    "class GraphGenerator(nn.Module):\n",
    "    def __init__(self, in_channels, out_channels, heads=4):\n",
    "        super(GraphGenerator, self).__init__()\n",
    "        # GAT layer for local attention\n",
    "        self.gat = GATConv(in_channels, out_channels, heads=heads, concat=True)\n",
    "        self.fc = nn.Linear(out_channels * heads, 1)  # Output: next node prediction\n",
    "    \n",
    "    def forward(self, data):\n",
    "        # Apply the GAT layer\n",
    "        x, edge_index = data.x, data.edge_index\n",
    "        x = self.gat(x, edge_index)\n",
    "        \n",
    "        # Simple pooling: just take the first node's output for simplicity\n",
    "        x = x.mean(dim=0)\n",
    "        \n",
    "        # Output prediction (next node's features)\n",
    "        return self.fc(x)\n"
   ]
  },
  {
   "cell_type": "code",
   "execution_count": null,
   "id": "d04451da",
   "metadata": {},
   "outputs": [],
   "source": [
    "# Initialize model\n",
    "model = GraphGenerator(in_channels=16, out_channels=32, heads=4)\n",
    "\n",
    "# Optimizer\n",
    "optimizer = torch.optim.Adam(model.parameters(), lr=0.01)\n",
    "\n",
    "# Dummy training loop for graph generation\n",
    "for epoch in range(100):\n",
    "    model.train()\n",
    "    optimizer.zero_grad()\n",
    "    \n",
    "    # Forward pass through the model\n",
    "    output = model(data)\n",
    "    \n",
    "    # Simple loss function (e.g., regression loss to predict the next node's feature)\n",
    "    loss = F.mse_loss(output, torch.randn(1))  # Replace with actual target node features\n",
    "    \n",
    "    loss.backward()\n",
    "    optimizer.step()\n",
    "    \n",
    "    print(f\"Epoch {epoch}, Loss: {loss.item()}\")\n"
   ]
  }
 ],
 "metadata": {
  "kernelspec": {
   "display_name": "311",
   "language": "python",
   "name": "python3"
  },
  "language_info": {
   "name": "python",
   "version": "3.11.12"
  }
 },
 "nbformat": 4,
 "nbformat_minor": 5
}
