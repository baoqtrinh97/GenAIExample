{
 "cells": [
  {
   "cell_type": "code",
   "execution_count": 1,
   "metadata": {
    "colab": {
     "base_uri": "https://localhost:8080/"
    },
    "executionInfo": {
     "elapsed": 34273,
     "status": "ok",
     "timestamp": 1719041862395,
     "user": {
      "displayName": "Bao Trinh Quoc",
      "userId": "05908526524860378225"
     },
     "user_tz": -420
    },
    "id": "v0c9Ba1H26NW",
    "outputId": "01817f93-9480-4ee6-875d-0fa980f3f54f"
   },
   "outputs": [],
   "source": [
    "import glob # module for filenames and directory paths\n",
    "import os\n",
    "import numpy as np\n",
    "import torch # import Pytorch framework\n",
    "from torch import nn, Tensor\n",
    "from torchvision.utils import save_image\n",
    "from torch.utils.data import DataLoader\n",
    "from torch.utils.data import Dataset\n",
    "\n",
    "import torchvision # for manipulate and process images\n",
    "\n",
    "from PIL import Image # import Pillow (Python Imaging Library)\n",
    "\n",
    "device = \"cuda\" if torch.cuda.is_available() else \"cpu\""
   ]
  },
  {
   "cell_type": "code",
   "execution_count": 2,
   "metadata": {
    "executionInfo": {
     "elapsed": 4406,
     "status": "ok",
     "timestamp": 1719041866794,
     "user": {
      "displayName": "Bao Trinh Quoc",
      "userId": "05908526524860378225"
     },
     "user_tz": -420
    },
    "id": "qwlNxzak26NX"
   },
   "outputs": [
    {
     "name": "stdout",
     "output_type": "stream",
     "text": [
      "Current working directory: c:\\Users\\baoqt\\OneDrive\\Documents\\GitHub\\GenAIExample\\Pix2Pix\n"
     ]
    }
   ],
   "source": [
    "# Print the current working directory\n",
    "print(\"Current working directory:\", os.getcwd())\n",
    "\n",
    "# create a directory prevents an error from being raised if the directory already exists\n",
    "os.makedirs(\"Generated\", exist_ok=True)\n",
    "os.makedirs(\"CheckPoint\", exist_ok=True)"
   ]
  },
  {
   "cell_type": "markdown",
   "metadata": {
    "id": "aMzsDIaO26NX"
   },
   "source": [
    "# 1. Dataset"
   ]
  },
  {
   "cell_type": "code",
   "execution_count": 3,
   "metadata": {
    "executionInfo": {
     "elapsed": 1080,
     "status": "ok",
     "timestamp": 1719041892188,
     "user": {
      "displayName": "Bao Trinh Quoc",
      "userId": "05908526524860378225"
     },
     "user_tz": -420
    },
    "id": "cSsJ3fzr26NX"
   },
   "outputs": [],
   "source": [
    "# Define transform\n",
    "img_height = 256\n",
    "img_width = 256\n",
    "\n",
    "transforms = [\n",
    "    # Resizes the image to a fixed height and width of 256x256 pixels\n",
    "    torchvision.transforms.Resize((img_height, img_width), Image.BICUBIC),\n",
    "\n",
    "    # Converts the PIL Image into a PyTorch Tensor\n",
    "    # The pixel values will be scaled to the range of [0, 1]\n",
    "    torchvision.transforms.ToTensor(),\n",
    "\n",
    "    # Normalizes the image channels (RGB), centers the data around zero and standardizes the range\n",
    "    torchvision.transforms.Normalize((0.5, 0.5, 0.5), (0.5, 0.5, 0.5)),\n",
    "]"
   ]
  },
  {
   "cell_type": "code",
   "execution_count": 4,
   "metadata": {
    "executionInfo": {
     "elapsed": 948,
     "status": "ok",
     "timestamp": 1719041895396,
     "user": {
      "displayName": "Bao Trinh Quoc",
      "userId": "05908526524860378225"
     },
     "user_tz": -420
    },
    "id": "qpxHaum726NX"
   },
   "outputs": [],
   "source": [
    "class ImageDataset(Dataset):\n",
    "    def __init__(self, root, transforms=None, split=\"train\"): # constructor\n",
    "        # Sets up the desired transformations\n",
    "        # The Compose object allows you to chain together multiple image transformations that will be applied in sequence\n",
    "        self.transform = torchvision.transforms.Compose(transforms)\n",
    "\n",
    "        # Locates your image files based on the root directory and the specified split\n",
    "        # The list of sorted image paths is stored as an attribute of the dataset object\n",
    "        self.files = sorted(glob.glob(os.path.join(root, split) + \"/*.*\"))\n",
    "\n",
    "\n",
    "    # loading and preprocessing a single image pair when access an element of the dataset\n",
    "    def __getitem__(self, index):\n",
    "        img = Image.open(self.files[index % len(self.files)]) # open img\n",
    "        w, h = img.size # get img size\n",
    "\n",
    "        # creates a cropped copy of a portion of the original img (left, upper, right, lower)\n",
    "        img_A = img.crop((0, 0, w / 2, h)) # left img\n",
    "        img_B = img.crop((w / 2, 0, w, h)) # right img\n",
    "\n",
    "        # data augmentation\n",
    "        if np.random.random() < 0.5:\n",
    "            # random flipping horizontally\n",
    "            img_A = Image.fromarray(np.array(img_A)[:, ::-1, :], \"RGB\") # [rows, flip column value, color chanel]\n",
    "            img_B = Image.fromarray(np.array(img_B)[:, ::-1, :], \"RGB\")\n",
    "\n",
    "        # Applies the series of image transformations\n",
    "        img_A = self.transform(img_A)\n",
    "        img_B = self.transform(img_B)\n",
    "\n",
    "        # Returns a dictionary containing the preprocessed image pair\n",
    "        return {\"A\": img_A, \"B\": img_B}\n",
    "\n",
    "    def __len__(self): # get the length of the dataset (number of image pairs available)\n",
    "        return len(self.files)"
   ]
  },
  {
   "cell_type": "code",
   "execution_count": 5,
   "metadata": {
    "colab": {
     "base_uri": "https://localhost:8080/"
    },
    "executionInfo": {
     "elapsed": 6950,
     "status": "ok",
     "timestamp": 1719041902892,
     "user": {
      "displayName": "Bao Trinh Quoc",
      "userId": "05908526524860378225"
     },
     "user_tz": -420
    },
    "id": "EtOsSudGcPO6",
    "outputId": "5e4c6e01-a7d4-4e8c-a6b3-07558606ba4e"
   },
   "outputs": [
    {
     "data": {
      "text/plain": [
       "(856, 202)"
      ]
     },
     "execution_count": 5,
     "metadata": {},
     "output_type": "execute_result"
    }
   ],
   "source": [
    "# Create dataset and applies the image transformations onto each split folder\n",
    "train_set = ImageDataset(root=f\"./Data\", transforms=transforms, split=\"train\")\n",
    "val_set = ImageDataset(root=f\"./Data\", transforms=transforms, split=\"val\")\n",
    "\n",
    "# show length of each split\n",
    "len(train_set), len(val_set)"
   ]
  },
  {
   "cell_type": "code",
   "execution_count": 6,
   "metadata": {
    "executionInfo": {
     "elapsed": 9,
     "status": "ok",
     "timestamp": 1719041902892,
     "user": {
      "displayName": "Bao Trinh Quoc",
      "userId": "05908526524860378225"
     },
     "user_tz": -420
    },
    "id": "R9z4xsmf26NY"
   },
   "outputs": [],
   "source": [
    "# define dataset loader\n",
    "BATCH_SIZE = 32\n",
    "\n",
    "train_loader = DataLoader(train_set, batch_size=BATCH_SIZE, shuffle=True, num_workers=2)\n",
    "val_loader = DataLoader(val_set, batch_size=BATCH_SIZE, shuffle=False, num_workers=2)"
   ]
  },
  {
   "cell_type": "markdown",
   "metadata": {
    "id": "IY5InFcv26NY"
   },
   "source": [
    "# 2. Model"
   ]
  },
  {
   "cell_type": "code",
   "execution_count": 7,
   "metadata": {
    "executionInfo": {
     "elapsed": 551,
     "status": "ok",
     "timestamp": 1719041915995,
     "user": {
      "displayName": "Bao Trinh Quoc",
      "userId": "05908526524860378225"
     },
     "user_tz": -420
    },
    "id": "SfKNF2IN26NY"
   },
   "outputs": [],
   "source": [
    "# Down sampling using CNN\n",
    "class DownSample(nn.Module):\n",
    "    def __init__(self, in_channels, out_channels):\n",
    "        super().__init__() # Calls the constructor of the parent class\n",
    "        self.model = nn.Sequential(nn.Conv2d(in_channels, out_channels, # Conv2d is a convolutional layer. Input and output channels as defined in the constructor\n",
    "                                             kernel_size=4, stride=2, # 4x4 convolution kernel, stride=2 (moving 2 pixel at a time)\n",
    "                                             padding=1, bias=False), # Adds a padding of 1 pixel around the input to maintain spatial size\n",
    "                                   nn.LeakyReLU(0.2)) # activation function\n",
    "\n",
    "    def forward(self, x):\n",
    "        return self.model(x) # Applies the sequential model to the input\n",
    "\n",
    "# Up sampling using reversed CNN\n",
    "class UpSample(nn.Module):\n",
    "    def __init__(self, in_channels, out_channels):\n",
    "        super().__init__()\n",
    "        self.model = nn.Sequential(nn.ConvTranspose2d(in_channels, out_channels, # nn.ConvTranspose2d is a deconvolutional layer\n",
    "                                                      kernel_size=4, stride=2,\n",
    "                                                      padding=1, bias=False),\n",
    "                                   nn.LeakyReLU(0.2))\n",
    "\n",
    "    def forward(self, x, skip_input):\n",
    "        x = self.model(x) # Applies the transposed convolution and activation to perform upsampling\n",
    "        x = torch.cat((x, skip_input), 1) # Concatenates the upsampled output\n",
    "        return x\n",
    "\n",
    "# Define Generator using U-Net architecture\n",
    "class Generator(nn.Module):\n",
    "    # The Constructor: Defines network components, sets up structure\n",
    "    def __init__(self, in_channels=3, out_channels=3): # Indicates that input and output is a RGB img\n",
    "        super().__init__()\n",
    "\n",
    "        # Encoder: Progressively downsample and extract higher-level features\n",
    "        # arguments are in_channels and out_channels. The out_channels increasing from 3 to 512 mean that it reduces the spatial dimension\n",
    "        self.down1 = DownSample(in_channels, 64)\n",
    "        self.down2 = DownSample(64, 128)\n",
    "        self.down3 = DownSample(128, 256)\n",
    "        self.down4 = DownSample(256, 512)\n",
    "        self.down5 = DownSample(512, 512)\n",
    "        self.down6 = DownSample(512, 512)\n",
    "        self.down7 = DownSample(512, 512)\n",
    "        self.down8 = DownSample(512, 512)\n",
    "\n",
    "        # Decoder: blocks expand the spatial resolution while incorporating skip connections to recover fine-grained details\n",
    "        self.up1 = UpSample(512, 512)\n",
    "        self.up2 = UpSample(1024, 512)\n",
    "        self.up3 = UpSample(1024, 512)\n",
    "        self.up4 = UpSample(1024, 512)\n",
    "        self.up5 = UpSample(1024, 256)\n",
    "        self.up6 = UpSample(512, 128)\n",
    "        self.up7 = UpSample(256, 64)\n",
    "\n",
    "        # Output Layer: block processes the features to produce the final image\n",
    "        self.final = nn.Sequential(\n",
    "            nn.Upsample(scale_factor=2), # Upscales the image spatially by a factor of 2\n",
    "            nn.ZeroPad2d((1, 0, 1, 0)), # Adds padding asymmetrically to ensure consistency in how the convolution is applied\n",
    "            nn.Conv2d(128, out_channels, kernel_size=4, padding=1),\n",
    "            nn.Tanh() # Applies the Tanh activation function, producing outputs likely in the range of -1 to 1\n",
    "        )\n",
    "\n",
    "    # Defines data flow and transformations\n",
    "    def forward(self, x):\n",
    "        # Encoder\n",
    "        d1 = self.down1(x)\n",
    "        d2 = self.down2(d1)\n",
    "        d3 = self.down3(d2)\n",
    "        d4 = self.down4(d3)\n",
    "        d5 = self.down5(d4)\n",
    "        d6 = self.down6(d5)\n",
    "        d7 = self.down7(d6)\n",
    "        d8 = self.down8(d7)\n",
    "        # Decoder\n",
    "        u1 = self.up1(d8, d7)\n",
    "        u2 = self.up2(u1, d6)\n",
    "        u3 = self.up3(u2, d5)\n",
    "        u4 = self.up4(u3, d4)\n",
    "        u5 = self.up5(u4, d3)\n",
    "        u6 = self.up6(u5, d2)\n",
    "        u7 = self.up7(u6, d1)\n",
    "\n",
    "        # Final processing\n",
    "        return self.final(u7)\n",
    "\n",
    "# Define Discreminator using CNN\n",
    "class Discriminator(nn.Module):\n",
    "    def __init__(self, in_channels=3):\n",
    "        super().__init__()\n",
    "        self.model = nn.Sequential(\n",
    "            nn.Conv2d(in_channels * 2, 64, kernel_size=4, stride=2, padding=1), # Convolutional Layers (in_channels, out_channels,....)\n",
    "            nn.LeakyReLU(0.2, inplace=True), # activation\n",
    "\n",
    "            nn.Conv2d(64, 128, kernel_size=4, stride=2, padding=1),\n",
    "            nn.LeakyReLU(0.2, inplace=True),\n",
    "            nn.InstanceNorm2d(128), # instance normalization helps stabilize the training process of GANs\n",
    "\n",
    "            nn.Conv2d(128, 256, kernel_size=4, stride=2, padding=1),\n",
    "            nn.LeakyReLU(0.2, inplace=True),\n",
    "            nn.InstanceNorm2d(256),\n",
    "\n",
    "            nn.Conv2d(256, 512, kernel_size=4, stride=2, padding=1),\n",
    "            nn.LeakyReLU(0.2, inplace=True),\n",
    "            nn.InstanceNorm2d(512),\n",
    "\n",
    "            nn.ZeroPad2d((1, 0, 1, 0)), # adds one pixel of zero padding to the top and bottom\n",
    "            nn.Conv2d(512, 1, kernel_size=4, padding=1),\n",
    "            nn.Sigmoid() # This forces the final output to be between 0 and 1, interpretable as the probability that the input is real\n",
    "        )\n",
    "    def forward(self, img_A, img_B):\n",
    "        img_input = torch.cat((img_A, img_B), 1) # Concatenates two input images, This doubles the number of input channels\n",
    "        return self.model(img_input)"
   ]
  },
  {
   "cell_type": "code",
   "execution_count": 8,
   "metadata": {
    "colab": {
     "base_uri": "https://localhost:8080/"
    },
    "executionInfo": {
     "elapsed": 551,
     "status": "ok",
     "timestamp": 1719041917580,
     "user": {
      "displayName": "Bao Trinh Quoc",
      "userId": "05908526524860378225"
     },
     "user_tz": -420
    },
    "id": "AwXJBkkL26NZ",
    "outputId": "110e7da7-1d30-4b25-ba76-54ddcaf60abf"
   },
   "outputs": [
    {
     "data": {
      "text/plain": [
       "Discriminator(\n",
       "  (model): Sequential(\n",
       "    (0): Conv2d(6, 64, kernel_size=(4, 4), stride=(2, 2), padding=(1, 1))\n",
       "    (1): LeakyReLU(negative_slope=0.2, inplace=True)\n",
       "    (2): Conv2d(64, 128, kernel_size=(4, 4), stride=(2, 2), padding=(1, 1))\n",
       "    (3): LeakyReLU(negative_slope=0.2, inplace=True)\n",
       "    (4): InstanceNorm2d(128, eps=1e-05, momentum=0.1, affine=False, track_running_stats=False)\n",
       "    (5): Conv2d(128, 256, kernel_size=(4, 4), stride=(2, 2), padding=(1, 1))\n",
       "    (6): LeakyReLU(negative_slope=0.2, inplace=True)\n",
       "    (7): InstanceNorm2d(256, eps=1e-05, momentum=0.1, affine=False, track_running_stats=False)\n",
       "    (8): Conv2d(256, 512, kernel_size=(4, 4), stride=(2, 2), padding=(1, 1))\n",
       "    (9): LeakyReLU(negative_slope=0.2, inplace=True)\n",
       "    (10): InstanceNorm2d(512, eps=1e-05, momentum=0.1, affine=False, track_running_stats=False)\n",
       "    (11): ZeroPad2d((1, 0, 1, 0))\n",
       "    (12): Conv2d(512, 1, kernel_size=(4, 4), stride=(1, 1), padding=(1, 1))\n",
       "    (13): Sigmoid()\n",
       "  )\n",
       ")"
      ]
     },
     "execution_count": 8,
     "metadata": {},
     "output_type": "execute_result"
    }
   ],
   "source": [
    "# Create model object and move to device\n",
    "\n",
    "generator = Generator() #create class\n",
    "generator.to(device) #moves the model to a specified device\n",
    "\n",
    "discriminator = Discriminator() #create class\n",
    "discriminator.to(device) #moves the model to a specified device"
   ]
  },
  {
   "cell_type": "markdown",
   "metadata": {
    "id": "vv3fzg_H26NZ"
   },
   "source": [
    "# 3. Training"
   ]
  },
  {
   "cell_type": "code",
   "execution_count": 16,
   "metadata": {
    "executionInfo": {
     "elapsed": 529,
     "status": "ok",
     "timestamp": 1719042266854,
     "user": {
      "displayName": "Bao Trinh Quoc",
      "userId": "05908526524860378225"
     },
     "user_tz": -420
    },
    "id": "zLqC7VZk26NZ"
   },
   "outputs": [],
   "source": [
    "# Saves a generated sample from the validation set\n",
    "\n",
    "def sample_images(epoch_done): # takes an epoch number (epoch_done) as input\n",
    "    imgs = next(iter(val_loader)) # fetches a batch of images from the validation loader (val_loader)\n",
    "    real_A = imgs[\"B\"][2:7, ...].to(device) #extracts the first 5 images from the \"A\" domain (real_A) and the \"B\" domain (real_B)\n",
    "    real_B = imgs[\"A\"][2:7, ...].to(device)\n",
    "    fake_B = generator(real_A) # feeds the real_A images to the generator to produce fake images in the \"B\" domain (fake_B)\n",
    "    img_sample = torch.cat((real_A.data, fake_B.data, real_B.data), -2) #concatenates the real images (real_A, real_B) and the generated images (fake_B) for comparison.\n",
    "    save_image(img_sample, f\"Generated/epoch_{epoch_done}.png\", nrow=5, normalize=True) #save img\n",
    "\n",
    "save_interval = 5 #controls how frequently the sample_images function is called"
   ]
  },
  {
   "cell_type": "code",
   "execution_count": 17,
   "metadata": {
    "colab": {
     "base_uri": "https://localhost:8080/"
    },
    "executionInfo": {
     "elapsed": 3332013,
     "status": "ok",
     "timestamp": 1719045601290,
     "user": {
      "displayName": "Bao Trinh Quoc",
      "userId": "05908526524860378225"
     },
     "user_tz": -420
    },
    "id": "a2leI6c-26NZ",
    "outputId": "e4b30e84-5c7c-49c5-9a64-54db184c507e"
   },
   "outputs": [
    {
     "name": "stdout",
     "output_type": "stream",
     "text": [
      "Epoch [1/300], Train G Loss: 21.4878, Train D Loss: 0.0945\n",
      "Epoch [2/300], Train G Loss: 19.1450, Train D Loss: 0.0305\n",
      "Epoch [3/300], Train G Loss: 18.5786, Train D Loss: 0.0364\n",
      "Epoch [4/300], Train G Loss: 17.8728, Train D Loss: 0.0709\n",
      "Epoch [5/300], Train G Loss: 17.2604, Train D Loss: 0.0476\n",
      "Epoch [6/300], Train G Loss: 18.0064, Train D Loss: 0.0555\n",
      "Epoch [7/300], Train G Loss: 16.6515, Train D Loss: 0.0265\n",
      "Epoch [8/300], Train G Loss: 17.9519, Train D Loss: 0.0525\n",
      "Epoch [9/300], Train G Loss: 16.7852, Train D Loss: 0.0423\n",
      "Epoch [10/300], Train G Loss: 17.5213, Train D Loss: 0.0496\n",
      "Epoch [11/300], Train G Loss: 17.4989, Train D Loss: 0.0266\n",
      "Epoch [12/300], Train G Loss: 18.3640, Train D Loss: 0.0204\n",
      "Epoch [13/300], Train G Loss: 17.5954, Train D Loss: 0.0075\n",
      "Epoch [14/300], Train G Loss: 18.2404, Train D Loss: 0.0181\n",
      "Epoch [15/300], Train G Loss: 17.6913, Train D Loss: 0.0149\n",
      "Epoch [16/300], Train G Loss: 18.1316, Train D Loss: 0.0053\n",
      "Epoch [17/300], Train G Loss: 18.6430, Train D Loss: 0.0020\n",
      "Epoch [18/300], Train G Loss: 17.8891, Train D Loss: 0.0019\n",
      "Epoch [19/300], Train G Loss: 18.6600, Train D Loss: 0.0033\n",
      "Epoch [20/300], Train G Loss: 17.8966, Train D Loss: 0.0540\n",
      "Epoch [21/300], Train G Loss: 15.6440, Train D Loss: 0.0662\n",
      "Epoch [22/300], Train G Loss: 16.8714, Train D Loss: 0.0270\n",
      "Epoch [23/300], Train G Loss: 17.0828, Train D Loss: 0.0545\n",
      "Epoch [24/300], Train G Loss: 16.5338, Train D Loss: 0.0486\n",
      "Epoch [25/300], Train G Loss: 16.3090, Train D Loss: 0.0961\n",
      "Epoch [26/300], Train G Loss: 17.0090, Train D Loss: 0.0411\n",
      "Epoch [27/300], Train G Loss: 16.1835, Train D Loss: 0.0787\n",
      "Epoch [28/300], Train G Loss: 16.2410, Train D Loss: 0.0562\n",
      "Epoch [29/300], Train G Loss: 17.0408, Train D Loss: 0.0886\n",
      "Epoch [30/300], Train G Loss: 16.4267, Train D Loss: 0.0877\n",
      "Epoch [31/300], Train G Loss: 15.6390, Train D Loss: 0.0892\n",
      "Epoch [32/300], Train G Loss: 16.2377, Train D Loss: 0.0655\n",
      "Epoch [33/300], Train G Loss: 16.5178, Train D Loss: 0.0567\n",
      "Epoch [34/300], Train G Loss: 16.0538, Train D Loss: 0.0474\n",
      "Epoch [35/300], Train G Loss: 15.0181, Train D Loss: 0.2010\n",
      "Epoch [36/300], Train G Loss: 13.7324, Train D Loss: 0.1721\n",
      "Epoch [37/300], Train G Loss: 15.4941, Train D Loss: 0.0920\n",
      "Epoch [38/300], Train G Loss: 15.0207, Train D Loss: 0.0778\n",
      "Epoch [39/300], Train G Loss: 15.0694, Train D Loss: 0.0741\n",
      "Epoch [40/300], Train G Loss: 15.0791, Train D Loss: 0.0683\n",
      "Epoch [41/300], Train G Loss: 15.9583, Train D Loss: 0.0532\n",
      "Epoch [42/300], Train G Loss: 16.9170, Train D Loss: 0.0734\n",
      "Epoch [43/300], Train G Loss: 16.1126, Train D Loss: 0.0567\n",
      "Epoch [44/300], Train G Loss: 16.0864, Train D Loss: 0.0370\n",
      "Epoch [45/300], Train G Loss: 16.3101, Train D Loss: 0.0498\n",
      "Epoch [46/300], Train G Loss: 16.5551, Train D Loss: 0.0204\n",
      "Epoch [47/300], Train G Loss: 16.7165, Train D Loss: 0.0314\n",
      "Epoch [48/300], Train G Loss: 16.0732, Train D Loss: 0.0148\n",
      "Epoch [49/300], Train G Loss: 15.9227, Train D Loss: 0.0672\n",
      "Epoch [50/300], Train G Loss: 16.7468, Train D Loss: 0.0505\n",
      "Epoch [51/300], Train G Loss: 17.5847, Train D Loss: 0.0265\n",
      "Epoch [52/300], Train G Loss: 16.8389, Train D Loss: 0.0347\n",
      "Epoch [53/300], Train G Loss: 16.5917, Train D Loss: 0.0387\n",
      "Epoch [54/300], Train G Loss: 16.4276, Train D Loss: 0.0285\n",
      "Epoch [55/300], Train G Loss: 15.9083, Train D Loss: 0.0683\n",
      "Epoch [56/300], Train G Loss: 16.2059, Train D Loss: 0.1043\n",
      "Epoch [57/300], Train G Loss: 14.4367, Train D Loss: 0.0468\n",
      "Epoch [58/300], Train G Loss: 15.0408, Train D Loss: 0.0622\n",
      "Epoch [59/300], Train G Loss: 15.8986, Train D Loss: 0.0577\n",
      "Epoch [60/300], Train G Loss: 15.0265, Train D Loss: 0.0546\n",
      "Epoch [61/300], Train G Loss: 14.8125, Train D Loss: 0.1420\n",
      "Epoch [62/300], Train G Loss: 15.0025, Train D Loss: 0.0615\n",
      "Epoch [63/300], Train G Loss: 15.4422, Train D Loss: 0.0510\n",
      "Epoch [64/300], Train G Loss: 14.9561, Train D Loss: 0.0416\n",
      "Epoch [65/300], Train G Loss: 14.8062, Train D Loss: 0.0378\n",
      "Epoch [66/300], Train G Loss: 15.1151, Train D Loss: 0.0750\n",
      "Epoch [67/300], Train G Loss: 15.5648, Train D Loss: 0.0361\n",
      "Epoch [68/300], Train G Loss: 16.0457, Train D Loss: 0.0530\n",
      "Epoch [69/300], Train G Loss: 15.8297, Train D Loss: 0.0373\n",
      "Epoch [70/300], Train G Loss: 15.5781, Train D Loss: 0.0199\n",
      "Epoch [71/300], Train G Loss: 15.9927, Train D Loss: 0.0162\n",
      "Epoch [72/300], Train G Loss: 16.9308, Train D Loss: 0.0239\n",
      "Epoch [73/300], Train G Loss: 16.0571, Train D Loss: 0.0760\n",
      "Epoch [74/300], Train G Loss: 15.4906, Train D Loss: 0.0228\n",
      "Epoch [75/300], Train G Loss: 16.2977, Train D Loss: 0.0233\n",
      "Epoch [76/300], Train G Loss: 16.6457, Train D Loss: 0.0155\n",
      "Epoch [77/300], Train G Loss: 16.6188, Train D Loss: 0.0539\n",
      "Epoch [78/300], Train G Loss: 15.7446, Train D Loss: 0.0522\n",
      "Epoch [79/300], Train G Loss: 14.5118, Train D Loss: 0.0683\n",
      "Epoch [80/300], Train G Loss: 15.8991, Train D Loss: 0.0186\n",
      "Epoch [81/300], Train G Loss: 15.9793, Train D Loss: 0.0332\n",
      "Epoch [82/300], Train G Loss: 15.6574, Train D Loss: 0.0132\n",
      "Epoch [83/300], Train G Loss: 15.9164, Train D Loss: 0.0199\n",
      "Epoch [84/300], Train G Loss: 15.9714, Train D Loss: 0.0193\n",
      "Epoch [85/300], Train G Loss: 17.2581, Train D Loss: 0.0184\n",
      "Epoch [86/300], Train G Loss: 17.7255, Train D Loss: 0.0150\n",
      "Epoch [87/300], Train G Loss: 16.5907, Train D Loss: 0.0232\n",
      "Epoch [88/300], Train G Loss: 16.2735, Train D Loss: 0.0212\n",
      "Epoch [89/300], Train G Loss: 16.7368, Train D Loss: 0.0615\n",
      "Epoch [90/300], Train G Loss: 15.4922, Train D Loss: 0.0358\n",
      "Epoch [91/300], Train G Loss: 14.9892, Train D Loss: 0.1088\n",
      "Epoch [92/300], Train G Loss: 16.4276, Train D Loss: 0.0738\n",
      "Epoch [93/300], Train G Loss: 15.8763, Train D Loss: 0.0319\n",
      "Epoch [94/300], Train G Loss: 15.7702, Train D Loss: 0.0487\n",
      "Epoch [95/300], Train G Loss: 15.5802, Train D Loss: 0.0326\n",
      "Epoch [96/300], Train G Loss: 15.9321, Train D Loss: 0.0224\n",
      "Epoch [97/300], Train G Loss: 14.8895, Train D Loss: 0.0336\n",
      "Epoch [98/300], Train G Loss: 15.5005, Train D Loss: 0.0158\n",
      "Epoch [99/300], Train G Loss: 15.8602, Train D Loss: 0.0584\n",
      "Epoch [100/300], Train G Loss: 15.9137, Train D Loss: 0.0853\n",
      "Epoch [101/300], Train G Loss: 15.0345, Train D Loss: 0.0284\n",
      "Epoch [102/300], Train G Loss: 15.5677, Train D Loss: 0.0319\n",
      "Epoch [103/300], Train G Loss: 15.4870, Train D Loss: 0.0377\n",
      "Epoch [104/300], Train G Loss: 15.4895, Train D Loss: 0.0283\n",
      "Epoch [105/300], Train G Loss: 16.4050, Train D Loss: 0.0500\n",
      "Epoch [106/300], Train G Loss: 16.9478, Train D Loss: 0.0387\n",
      "Epoch [107/300], Train G Loss: 15.6347, Train D Loss: 0.0722\n",
      "Epoch [108/300], Train G Loss: 15.2273, Train D Loss: 0.0571\n",
      "Epoch [109/300], Train G Loss: 16.0436, Train D Loss: 0.0524\n",
      "Epoch [110/300], Train G Loss: 16.0379, Train D Loss: 0.0453\n",
      "Epoch [111/300], Train G Loss: 16.5608, Train D Loss: 0.0310\n",
      "Epoch [112/300], Train G Loss: 15.0172, Train D Loss: 0.0303\n",
      "Epoch [113/300], Train G Loss: 15.7902, Train D Loss: 0.0446\n",
      "Epoch [114/300], Train G Loss: 14.8710, Train D Loss: 0.0490\n",
      "Epoch [115/300], Train G Loss: 15.5760, Train D Loss: 0.0171\n",
      "Epoch [116/300], Train G Loss: 16.1659, Train D Loss: 0.0184\n",
      "Epoch [117/300], Train G Loss: 17.1456, Train D Loss: 0.0138\n",
      "Epoch [118/300], Train G Loss: 17.6823, Train D Loss: 0.0196\n",
      "Epoch [119/300], Train G Loss: 17.5454, Train D Loss: 0.0171\n",
      "Epoch [120/300], Train G Loss: 17.1203, Train D Loss: 0.0418\n",
      "Epoch [121/300], Train G Loss: 16.0165, Train D Loss: 0.0203\n",
      "Epoch [122/300], Train G Loss: 16.5787, Train D Loss: 0.0321\n",
      "Epoch [123/300], Train G Loss: 15.4501, Train D Loss: 0.0284\n",
      "Epoch [124/300], Train G Loss: 16.4687, Train D Loss: 0.0266\n",
      "Epoch [125/300], Train G Loss: 16.5483, Train D Loss: 0.0422\n",
      "Epoch [126/300], Train G Loss: 18.0507, Train D Loss: 0.0151\n",
      "Epoch [127/300], Train G Loss: 17.1428, Train D Loss: 0.0141\n",
      "Epoch [128/300], Train G Loss: 17.1277, Train D Loss: 0.0227\n",
      "Epoch [129/300], Train G Loss: 17.4039, Train D Loss: 0.0166\n",
      "Epoch [130/300], Train G Loss: 16.8262, Train D Loss: 0.0201\n",
      "Epoch [131/300], Train G Loss: 16.3439, Train D Loss: 0.0547\n",
      "Epoch [132/300], Train G Loss: 15.1761, Train D Loss: 0.0420\n",
      "Epoch [133/300], Train G Loss: 14.8284, Train D Loss: 0.0487\n",
      "Epoch [134/300], Train G Loss: 15.0798, Train D Loss: 0.0282\n",
      "Epoch [135/300], Train G Loss: 15.3412, Train D Loss: 0.0272\n",
      "Epoch [136/300], Train G Loss: 15.7887, Train D Loss: 0.0396\n",
      "Epoch [137/300], Train G Loss: 16.5906, Train D Loss: 0.0489\n",
      "Epoch [138/300], Train G Loss: 17.1703, Train D Loss: 0.0207\n",
      "Epoch [139/300], Train G Loss: 17.5627, Train D Loss: 0.0182\n",
      "Epoch [140/300], Train G Loss: 17.9102, Train D Loss: 0.0126\n",
      "Epoch [141/300], Train G Loss: 16.2195, Train D Loss: 0.0154\n",
      "Epoch [142/300], Train G Loss: 15.5480, Train D Loss: 0.1399\n",
      "Epoch [143/300], Train G Loss: 14.7644, Train D Loss: 0.0371\n",
      "Epoch [144/300], Train G Loss: 16.7765, Train D Loss: 0.0356\n",
      "Epoch [145/300], Train G Loss: 16.6384, Train D Loss: 0.0485\n",
      "Epoch [146/300], Train G Loss: 15.7086, Train D Loss: 0.0193\n",
      "Epoch [147/300], Train G Loss: 16.2332, Train D Loss: 0.0172\n",
      "Epoch [148/300], Train G Loss: 15.8332, Train D Loss: 0.0488\n",
      "Epoch [149/300], Train G Loss: 14.2276, Train D Loss: 0.0996\n",
      "Epoch [150/300], Train G Loss: 14.1418, Train D Loss: 0.0501\n",
      "Epoch [151/300], Train G Loss: 15.5428, Train D Loss: 0.0245\n",
      "Epoch [152/300], Train G Loss: 15.3881, Train D Loss: 0.0352\n",
      "Epoch [153/300], Train G Loss: 15.9980, Train D Loss: 0.0455\n",
      "Epoch [154/300], Train G Loss: 15.5989, Train D Loss: 0.0162\n",
      "Epoch [155/300], Train G Loss: 15.1985, Train D Loss: 0.0295\n",
      "Epoch [156/300], Train G Loss: 15.3155, Train D Loss: 0.0642\n",
      "Epoch [157/300], Train G Loss: 15.9385, Train D Loss: 0.0363\n",
      "Epoch [158/300], Train G Loss: 15.5098, Train D Loss: 0.0264\n",
      "Epoch [159/300], Train G Loss: 15.0361, Train D Loss: 0.0353\n",
      "Epoch [160/300], Train G Loss: 15.8815, Train D Loss: 0.0298\n",
      "Epoch [161/300], Train G Loss: 16.1030, Train D Loss: 0.0421\n",
      "Epoch [162/300], Train G Loss: 18.0169, Train D Loss: 0.0315\n",
      "Epoch [163/300], Train G Loss: 17.2472, Train D Loss: 0.0161\n",
      "Epoch [164/300], Train G Loss: 16.0190, Train D Loss: 0.0205\n",
      "Epoch [165/300], Train G Loss: 15.5656, Train D Loss: 0.0666\n",
      "Epoch [166/300], Train G Loss: 15.6627, Train D Loss: 0.0866\n",
      "Epoch [167/300], Train G Loss: 14.9862, Train D Loss: 0.0297\n",
      "Epoch [168/300], Train G Loss: 15.9378, Train D Loss: 0.0195\n",
      "Epoch [169/300], Train G Loss: 16.3720, Train D Loss: 0.0277\n",
      "Epoch [170/300], Train G Loss: 15.9792, Train D Loss: 0.0246\n",
      "Epoch [171/300], Train G Loss: 17.9839, Train D Loss: 0.0322\n",
      "Epoch [172/300], Train G Loss: 16.5013, Train D Loss: 0.0333\n",
      "Epoch [173/300], Train G Loss: 15.3849, Train D Loss: 0.0307\n",
      "Epoch [174/300], Train G Loss: 15.0610, Train D Loss: 0.0207\n",
      "Epoch [175/300], Train G Loss: 15.8467, Train D Loss: 0.0226\n",
      "Epoch [176/300], Train G Loss: 16.1707, Train D Loss: 0.0139\n",
      "Epoch [177/300], Train G Loss: 16.8455, Train D Loss: 0.0463\n",
      "Epoch [178/300], Train G Loss: 16.3888, Train D Loss: 0.0360\n",
      "Epoch [179/300], Train G Loss: 15.2929, Train D Loss: 0.0351\n",
      "Epoch [180/300], Train G Loss: 15.1958, Train D Loss: 0.0231\n",
      "Epoch [181/300], Train G Loss: 15.9806, Train D Loss: 0.0216\n",
      "Epoch [182/300], Train G Loss: 16.0268, Train D Loss: 0.0161\n",
      "Epoch [183/300], Train G Loss: 16.9945, Train D Loss: 0.0290\n",
      "Epoch [184/300], Train G Loss: 16.4664, Train D Loss: 0.0224\n",
      "Epoch [185/300], Train G Loss: 16.2534, Train D Loss: 0.0246\n",
      "Epoch [186/300], Train G Loss: 16.1465, Train D Loss: 0.0301\n",
      "Epoch [187/300], Train G Loss: 15.9927, Train D Loss: 0.0183\n",
      "Epoch [188/300], Train G Loss: 15.8575, Train D Loss: 0.0269\n",
      "Epoch [189/300], Train G Loss: 16.3099, Train D Loss: 0.0189\n",
      "Epoch [190/300], Train G Loss: 16.2437, Train D Loss: 0.0113\n",
      "Epoch [191/300], Train G Loss: 15.7553, Train D Loss: 0.0278\n",
      "Epoch [192/300], Train G Loss: 16.2419, Train D Loss: 0.0257\n",
      "Epoch [193/300], Train G Loss: 16.0814, Train D Loss: 0.0808\n",
      "Epoch [194/300], Train G Loss: 16.7069, Train D Loss: 0.1340\n",
      "Epoch [195/300], Train G Loss: 20.1356, Train D Loss: 0.0220\n",
      "Epoch [196/300], Train G Loss: 17.6996, Train D Loss: 0.0530\n",
      "Epoch [197/300], Train G Loss: 15.1232, Train D Loss: 0.0537\n",
      "Epoch [198/300], Train G Loss: 15.2687, Train D Loss: 0.0356\n",
      "Epoch [199/300], Train G Loss: 15.1444, Train D Loss: 0.0508\n",
      "Epoch [200/300], Train G Loss: 14.3444, Train D Loss: 0.0416\n",
      "Epoch [201/300], Train G Loss: 15.4332, Train D Loss: 0.0335\n",
      "Epoch [202/300], Train G Loss: 16.0005, Train D Loss: 0.0262\n",
      "Epoch [203/300], Train G Loss: 15.8228, Train D Loss: 0.0289\n",
      "Epoch [204/300], Train G Loss: 15.9994, Train D Loss: 0.0275\n",
      "Epoch [205/300], Train G Loss: 15.7010, Train D Loss: 0.0307\n",
      "Epoch [206/300], Train G Loss: 15.5289, Train D Loss: 0.0242\n",
      "Epoch [207/300], Train G Loss: 16.0249, Train D Loss: 0.0111\n",
      "Epoch [208/300], Train G Loss: 16.2967, Train D Loss: 0.0122\n",
      "Epoch [209/300], Train G Loss: 14.8391, Train D Loss: 0.0227\n",
      "Epoch [210/300], Train G Loss: 15.3300, Train D Loss: 0.0283\n",
      "Epoch [211/300], Train G Loss: 15.2397, Train D Loss: 0.1076\n",
      "Epoch [212/300], Train G Loss: 14.6365, Train D Loss: 0.0404\n",
      "Epoch [213/300], Train G Loss: 15.0608, Train D Loss: 0.0320\n",
      "Epoch [214/300], Train G Loss: 15.0676, Train D Loss: 0.0235\n",
      "Epoch [215/300], Train G Loss: 15.3211, Train D Loss: 0.0346\n",
      "Epoch [216/300], Train G Loss: 15.8298, Train D Loss: 0.0237\n",
      "Epoch [217/300], Train G Loss: 15.2734, Train D Loss: 0.0265\n",
      "Epoch [218/300], Train G Loss: 15.1031, Train D Loss: 0.0174\n",
      "Epoch [219/300], Train G Loss: 15.5614, Train D Loss: 0.0226\n",
      "Epoch [220/300], Train G Loss: 15.9762, Train D Loss: 0.0208\n",
      "Epoch [221/300], Train G Loss: 16.0163, Train D Loss: 0.0454\n",
      "Epoch [222/300], Train G Loss: 15.2245, Train D Loss: 0.0729\n",
      "Epoch [223/300], Train G Loss: 15.1885, Train D Loss: 0.0370\n",
      "Epoch [224/300], Train G Loss: 15.0624, Train D Loss: 0.0390\n",
      "Epoch [225/300], Train G Loss: 15.2779, Train D Loss: 0.0274\n",
      "Epoch [226/300], Train G Loss: 16.1613, Train D Loss: 0.0232\n",
      "Epoch [227/300], Train G Loss: 15.6982, Train D Loss: 0.0210\n",
      "Epoch [228/300], Train G Loss: 15.5478, Train D Loss: 0.0288\n",
      "Epoch [229/300], Train G Loss: 16.0170, Train D Loss: 0.0552\n",
      "Epoch [230/300], Train G Loss: 16.3957, Train D Loss: 0.0775\n",
      "Epoch [231/300], Train G Loss: 15.0084, Train D Loss: 0.0376\n",
      "Epoch [232/300], Train G Loss: 15.8100, Train D Loss: 0.0290\n",
      "Epoch [233/300], Train G Loss: 15.8534, Train D Loss: 0.0242\n",
      "Epoch [234/300], Train G Loss: 15.7965, Train D Loss: 0.0236\n",
      "Epoch [235/300], Train G Loss: 15.4106, Train D Loss: 0.0225\n",
      "Epoch [236/300], Train G Loss: 16.0985, Train D Loss: 0.0253\n",
      "Epoch [237/300], Train G Loss: 15.9618, Train D Loss: 0.0271\n",
      "Epoch [238/300], Train G Loss: 15.3455, Train D Loss: 0.0627\n",
      "Epoch [239/300], Train G Loss: 14.2102, Train D Loss: 0.0453\n",
      "Epoch [240/300], Train G Loss: 14.8395, Train D Loss: 0.0315\n",
      "Epoch [241/300], Train G Loss: 15.1716, Train D Loss: 0.0240\n",
      "Epoch [242/300], Train G Loss: 15.2242, Train D Loss: 0.0341\n",
      "Epoch [243/300], Train G Loss: 15.9688, Train D Loss: 0.0622\n",
      "Epoch [244/300], Train G Loss: 14.7084, Train D Loss: 0.0348\n",
      "Epoch [245/300], Train G Loss: 14.9577, Train D Loss: 0.0669\n",
      "Epoch [246/300], Train G Loss: 16.3174, Train D Loss: 0.1020\n",
      "Epoch [247/300], Train G Loss: 13.8672, Train D Loss: 0.0628\n",
      "Epoch [248/300], Train G Loss: 14.4732, Train D Loss: 0.0326\n",
      "Epoch [249/300], Train G Loss: 14.6083, Train D Loss: 0.0421\n",
      "Epoch [250/300], Train G Loss: 14.5562, Train D Loss: 0.0121\n",
      "Epoch [251/300], Train G Loss: 14.5889, Train D Loss: 0.0286\n",
      "Epoch [252/300], Train G Loss: 15.6607, Train D Loss: 0.0353\n",
      "Epoch [253/300], Train G Loss: 14.9805, Train D Loss: 0.0232\n",
      "Epoch [254/300], Train G Loss: 13.8903, Train D Loss: 0.0154\n",
      "Epoch [255/300], Train G Loss: 15.2626, Train D Loss: 0.0162\n",
      "Epoch [256/300], Train G Loss: 15.1269, Train D Loss: 0.0139\n",
      "Epoch [257/300], Train G Loss: 15.9213, Train D Loss: 0.0692\n",
      "Epoch [258/300], Train G Loss: 14.4314, Train D Loss: 0.0415\n",
      "Epoch [259/300], Train G Loss: 14.3245, Train D Loss: 0.0249\n",
      "Epoch [260/300], Train G Loss: 14.9786, Train D Loss: 0.0410\n",
      "Epoch [261/300], Train G Loss: 14.8889, Train D Loss: 0.0346\n",
      "Epoch [262/300], Train G Loss: 15.2621, Train D Loss: 0.0403\n",
      "Epoch [263/300], Train G Loss: 14.9040, Train D Loss: 0.0206\n",
      "Epoch [264/300], Train G Loss: 15.3906, Train D Loss: 0.0260\n",
      "Epoch [265/300], Train G Loss: 14.7608, Train D Loss: 0.0195\n",
      "Epoch [266/300], Train G Loss: 15.4635, Train D Loss: 0.0236\n",
      "Epoch [267/300], Train G Loss: 15.0503, Train D Loss: 0.0372\n",
      "Epoch [268/300], Train G Loss: 14.6231, Train D Loss: 0.0128\n",
      "Epoch [269/300], Train G Loss: 14.8998, Train D Loss: 0.0147\n",
      "Epoch [270/300], Train G Loss: 14.7975, Train D Loss: 0.0183\n",
      "Epoch [271/300], Train G Loss: 15.4354, Train D Loss: 0.0300\n",
      "Epoch [272/300], Train G Loss: 14.1242, Train D Loss: 0.0315\n",
      "Epoch [273/300], Train G Loss: 14.7126, Train D Loss: 0.0258\n",
      "Epoch [274/300], Train G Loss: 15.4489, Train D Loss: 0.0276\n",
      "Epoch [275/300], Train G Loss: 14.8269, Train D Loss: 0.0255\n",
      "Epoch [276/300], Train G Loss: 14.9826, Train D Loss: 0.0194\n",
      "Epoch [277/300], Train G Loss: 15.1380, Train D Loss: 0.0167\n",
      "Epoch [278/300], Train G Loss: 15.5923, Train D Loss: 0.0164\n",
      "Epoch [279/300], Train G Loss: 15.2346, Train D Loss: 0.0400\n",
      "Epoch [280/300], Train G Loss: 14.7158, Train D Loss: 0.0661\n",
      "Epoch [281/300], Train G Loss: 14.8024, Train D Loss: 0.0522\n",
      "Epoch [282/300], Train G Loss: 14.5283, Train D Loss: 0.0251\n",
      "Epoch [283/300], Train G Loss: 14.3705, Train D Loss: 0.0241\n",
      "Epoch [284/300], Train G Loss: 14.7487, Train D Loss: 0.0907\n",
      "Epoch [285/300], Train G Loss: 14.8096, Train D Loss: 0.1357\n",
      "Epoch [286/300], Train G Loss: 13.8948, Train D Loss: 0.0638\n",
      "Epoch [287/300], Train G Loss: 13.3026, Train D Loss: 0.0559\n",
      "Epoch [288/300], Train G Loss: 13.3337, Train D Loss: 0.0395\n",
      "Epoch [289/300], Train G Loss: 14.3971, Train D Loss: 0.0188\n",
      "Epoch [290/300], Train G Loss: 14.0461, Train D Loss: 0.0167\n",
      "Epoch [291/300], Train G Loss: 14.2050, Train D Loss: 0.0164\n",
      "Epoch [292/300], Train G Loss: 14.7185, Train D Loss: 0.0232\n",
      "Epoch [293/300], Train G Loss: 14.9433, Train D Loss: 0.0488\n",
      "Epoch [294/300], Train G Loss: 14.8932, Train D Loss: 0.0524\n",
      "Epoch [295/300], Train G Loss: 14.0592, Train D Loss: 0.0225\n",
      "Epoch [296/300], Train G Loss: 14.2553, Train D Loss: 0.0151\n",
      "Epoch [297/300], Train G Loss: 14.5029, Train D Loss: 0.0182\n",
      "Epoch [298/300], Train G Loss: 14.7012, Train D Loss: 0.0117\n",
      "Epoch [299/300], Train G Loss: 15.1508, Train D Loss: 0.0143\n",
      "Epoch [300/300], Train G Loss: 16.0506, Train D Loss: 0.0088\n"
     ]
    }
   ],
   "source": [
    "EPOCHS = 300\n",
    "\n",
    "# Set optimizer and learning rate\n",
    "optimizer_G = torch.optim.Adam(generator.parameters(), lr=0.0001)\n",
    "optimizer_D = torch.optim.Adam(discriminator.parameters(), lr=0.0002)\n",
    "\n",
    "# Set loss function\n",
    "criterion = torch.nn.BCELoss() # binary cross entropy\n",
    "criterion_pixelwise = torch.nn.L1Loss() # L1 = mean absolute error\n",
    "\n",
    "lambda_pixel = 100 # hyper parameter for later use\n",
    "patch = (1, img_height // 2 ** 4, img_width // 2 ** 4) # devide img into small patch (by 16)\n",
    "\n",
    "# create dictionary for later visualization\n",
    "hist = {\n",
    "        \"train_G_loss\": [],\n",
    "        \"train_D_loss\": [],\n",
    "    }\n",
    "\n",
    "for epoch in range(EPOCHS):\n",
    "    running_G_loss = 0.0\n",
    "    running_D_loss = 0.0\n",
    "\n",
    "    for i, batch in enumerate(train_loader):\n",
    "\n",
    "        real_imgs_A = batch[\"B\"].to(device) # the signal image (mask)\n",
    "        real_imgs_B = batch[\"A\"].to(device) # the image (facade)\n",
    "\n",
    "        # prepare labels\n",
    "        valid = torch.ones(real_imgs_A.size(0), *patch).to(device) # real label, gradualy go to 1\n",
    "        fake = torch.zeros(real_imgs_A.size(0), *patch).to(device) # fake label, gradualy go to 0\n",
    "\n",
    "        # --- Train Generator ---\n",
    "        optimizer_G.zero_grad()\n",
    "\n",
    "        fake_imgs_B = generator(real_imgs_A) # try to generate new facade image (fake_imgs_B) with signal (real_imgs_A)\n",
    "        pred_fake = discriminator(fake_imgs_B, real_imgs_A) # pred_fake is the probability value of generated img (fake_imgs_B) with signal (real_imgs_A), this value gradualy go to 1 meaning that the generated img become real\n",
    "\n",
    "        # Generator loss\n",
    "        G_loss_GAN = criterion(pred_fake, valid) # GAN loss\n",
    "        G_loss_pixel = criterion_pixelwise(fake_imgs_B, real_imgs_B) # Pixel-wise loss\n",
    "        G_loss = G_loss_GAN + lambda_pixel * G_loss_pixel # Total loss\n",
    "\n",
    "        running_G_loss += G_loss.item()\n",
    "        G_loss.backward()\n",
    "        optimizer_G.step()\n",
    "\n",
    "        # --- Train Discriminator ---\n",
    "        optimizer_D.zero_grad()\n",
    "\n",
    "        # train with real data\n",
    "        pred_real = discriminator(real_imgs_B, real_imgs_A) # pred_real is the probability value of the real_imgs_B with with signal (real_imgs_A)\n",
    "        loss_real = criterion(pred_real, valid) # real label, gradualy go to 1\n",
    "\n",
    "        pred_fake = discriminator(fake_imgs_B.detach(), real_imgs_A) # pred_fake is the probability value of the fake_imgs_B with with signal (real_imgs_A)\n",
    "        loss_fake = criterion(pred_fake, fake) # fake label, gradualy go to 0\n",
    "\n",
    "\n",
    "        D_loss = (loss_real + loss_fake) / 2 # Total loss\n",
    "\n",
    "        running_D_loss += D_loss.item()\n",
    "        D_loss.backward()\n",
    "        optimizer_D.step()\n",
    "\n",
    "\n",
    "    epoch_G_loss = running_G_loss / len(train_loader)\n",
    "    epoch_D_loss = running_D_loss / len(train_loader)\n",
    "\n",
    "    print(f\"Epoch [{epoch + 1}/{EPOCHS}], Train G Loss: {epoch_G_loss:.4f}, Train D Loss: {epoch_D_loss:.4f}\")\n",
    "\n",
    "    hist[\"train_G_loss\"].append(epoch_G_loss)\n",
    "    hist[\"train_D_loss\"].append(epoch_D_loss)\n",
    "\n",
    "    # save images\n",
    "    if epoch % save_interval == 0:\n",
    "        sample_images(epoch)\n",
    "\n",
    "    # save best parameters\n",
    "    best_G_loss = float('inf')\n",
    "    best_D_loss = float('inf')\n",
    "\n",
    "    if epoch_G_loss < best_G_loss:\n",
    "        best_G_loss = epoch_G_loss\n",
    "        torch.save(generator.state_dict(), f\"CheckPoint/best_generator_weights.pt\")\n",
    "\n",
    "    if epoch_D_loss < best_D_loss:\n",
    "        best_D_loss = epoch_D_loss\n",
    "        torch.save(discriminator.state_dict(), f\"CheckPoint/best_discriminator_weights.pt\")"
   ]
  },
  {
   "cell_type": "code",
   "execution_count": 18,
   "metadata": {
    "colab": {
     "base_uri": "https://localhost:8080/",
     "height": 449
    },
    "executionInfo": {
     "elapsed": 899,
     "status": "ok",
     "timestamp": 1719045744894,
     "user": {
      "displayName": "Bao Trinh Quoc",
      "userId": "05908526524860378225"
     },
     "user_tz": -420
    },
    "id": "AxpjBtr-Fqu7",
    "outputId": "501d41ae-01a2-4684-f4c5-21bdb3961af9"
   },
   "outputs": [
    {
     "data": {
      "image/png": "[encoded data removed]",
      "text/plain": [
       "<Figure size 640x480 with 1 Axes>"
      ]
     },
     "metadata": {},
     "output_type": "display_data"
    }
   ],
   "source": [
    "# prompt: visualize the loss, hist dict in the cell before\n",
    "\n",
    "import matplotlib.pyplot as plt\n",
    "\n",
    "# Plot training losses\n",
    "plt.plot(hist[\"train_G_loss\"], label=\"Train Generator Loss\")\n",
    "plt.plot(hist[\"train_D_loss\"], label=\"Train Discriminator Loss\")\n",
    "plt.legend()\n",
    "plt.xlabel(\"Epoch\")\n",
    "plt.ylabel(\"Loss\")\n",
    "plt.show()\n"
   ]
  },
  {
   "cell_type": "markdown",
   "metadata": {
    "id": "uJefnenmt0dp"
   },
   "source": [
    "# 4. Testing"
   ]
  },
  {
   "cell_type": "code",
   "execution_count": 19,
   "metadata": {
    "executionInfo": {
     "elapsed": 559,
     "status": "ok",
     "timestamp": 1719046880777,
     "user": {
      "displayName": "Bao Trinh Quoc",
      "userId": "05908526524860378225"
     },
     "user_tz": -420
    },
    "id": "UJ5hE-Q9Nj1b"
   },
   "outputs": [],
   "source": [
    "class ImageTest(Dataset):\n",
    "    def __init__(self, root, transforms=None): # constructor\n",
    "        # Sets up the desired transformations\n",
    "        # The Compose object allows you to chain together multiple image transformations that will be applied in sequence\n",
    "        self.transform = torchvision.transforms.Compose(transforms)\n",
    "\n",
    "        # Locates your image files based on the root directory and the specified split\n",
    "        # The list of sorted image paths is stored as an attribute of the dataset object\n",
    "        self.files = sorted(glob.glob(os.path.join(root) + \"/*.*\"))\n",
    "\n",
    "        # Extract just the filenames from the full paths\n",
    "        self.img_names = [os.path.basename(file) for file in self.files]\n",
    "\n",
    "\n",
    "    # loading and preprocessing a single image pair when access an element of the dataset\n",
    "    def __getitem__(self, index):\n",
    "        img_test = Image.open(self.files[index % len(self.files)]) # open img\n",
    "        img_test = self.transform(img_test) # Applies the series of image transformations\n",
    "        img_name = self.img_names[index % len(self.img_names)] # Get corresponding image name\n",
    "        return {\"C\": img_test, \"img_name\": img_name}  # Return image and name\n",
    "\n",
    "    def __len__(self): # get the length of the dataset (number of image pairs available)\n",
    "        return len(self.files)"
   ]
  },
  {
   "cell_type": "code",
   "execution_count": 20,
   "metadata": {
    "colab": {
     "base_uri": "https://localhost:8080/"
    },
    "executionInfo": {
     "elapsed": 2483,
     "status": "ok",
     "timestamp": 1719046886406,
     "user": {
      "displayName": "Bao Trinh Quoc",
      "userId": "05908526524860378225"
     },
     "user_tz": -420
    },
    "id": "ENoT10xYPZaY",
    "outputId": "ad20dc0b-e88c-492f-870d-936418676c14"
   },
   "outputs": [
    {
     "name": "stdout",
     "output_type": "stream",
     "text": [
      "417\n",
      "<class '__main__.ImageTest'>\n"
     ]
    }
   ],
   "source": [
    "# Create dataset\n",
    "test_set = ImageTest(root=f\"./TestInput\", transforms=transforms)\n",
    "\n",
    "# show length of each split\n",
    "print(len(test_set))\n",
    "print(type(test_set))"
   ]
  },
  {
   "cell_type": "code",
   "execution_count": 21,
   "metadata": {
    "executionInfo": {
     "elapsed": 15309,
     "status": "ok",
     "timestamp": 1719046904543,
     "user": {
      "displayName": "Bao Trinh Quoc",
      "userId": "05908526524860378225"
     },
     "user_tz": -420
    },
    "id": "wrFzYLyVUF4w"
   },
   "outputs": [],
   "source": [
    "# Load the best models\n",
    "generator = Generator()\n",
    "generator.load_state_dict(torch.load(f\"CheckPoint/best_generator_weights.pt\"))\n",
    "\n",
    "discriminator = Discriminator()\n",
    "discriminator.load_state_dict(torch.load(f\"CheckPoint/best_discriminator_weights.pt\"))\n",
    "\n",
    "# Move models to device\n",
    "\n",
    "generator.to(device)\n",
    "discriminator.to(device)\n",
    "\n",
    "# Define test loader\n",
    "test_loader = DataLoader(test_set, batch_size=1, shuffle=False, num_workers=2)\n",
    "\n",
    "# Create result folder\n",
    "os.makedirs(\"TestResult\", exist_ok=True)\n",
    "\n",
    "# Test the model\n",
    "with torch.no_grad():\n",
    "    for i, batch in enumerate(test_loader):\n",
    "        real_imgs_C = batch[\"C\"].to(device)\n",
    "        fake_imgs_B = generator(real_imgs_C)\n",
    "        final_img = fake_imgs_B.data\n",
    "\n",
    "        img_name = batch[\"img_name\"][0]  # Get the image name from the batch when batch size is 1\n",
    "        save_image(final_img, f\"TestResult/Result_{img_name}\", nrow=1, normalize=True)\n",
    "\n"
   ]
  }
 ],
 "metadata": {
  "accelerator": "GPU",
  "colab": {
   "gpuType": "L4",
   "machine_shape": "hm",
   "provenance": []
  },
  "kernelspec": {
   "display_name": "311",
   "language": "python",
   "name": "python3"
  },
  "language_info": {
   "codemirror_mode": {
    "name": "ipython",
    "version": 3
   },
   "file_extension": ".py",
   "mimetype": "text/x-python",
   "name": "python",
   "nbconvert_exporter": "python",
   "pygments_lexer": "ipython3",
   "version": "3.11.12"
  }
 },
 "nbformat": 4,
 "nbformat_minor": 0
}
