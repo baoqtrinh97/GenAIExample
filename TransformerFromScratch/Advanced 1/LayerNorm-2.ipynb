{
 "cells": [
  {
   "cell_type": "markdown",
   "id": "7cc3f4a8",
   "metadata": {},
   "source": [
    "## pytorch"
   ]
  },
  {
   "cell_type": "code",
   "execution_count": 1,
   "id": "afeb0087",
   "metadata": {},
   "outputs": [
    {
     "name": "stdout",
     "output_type": "stream",
     "text": [
      "(1, 2, 2, 2)\n",
      "[[8. 6.]\n",
      " [2. 4.]]\n",
      "[[0. 2.]\n",
      " [1. 5.]]\n"
     ]
    }
   ],
   "source": [
    "import torch\n",
    "import numpy as np\n",
    "\n",
    " # Image Example\n",
    "N, C, H, W = 1, 2, 2, 2\n",
    "data =  np.zeros((N, C, H, W))\n",
    "data[0,0,:,:] = np.array([[8, 6],\n",
    "                          [2, 4]])\n",
    "data[0,1,:,:] = np.array([[0, 2],\n",
    "                          [1, 5]])\n",
    "\n",
    "data = data.reshape(N, C, H, W)\n",
    "print(data.shape)\n",
    "print(data[0,0,:,:])\n",
    "print(data[0,1,:,:])"
   ]
  },
  {
   "cell_type": "code",
   "execution_count": 2,
   "id": "d911a720",
   "metadata": {},
   "outputs": [
    {
     "name": "stdout",
     "output_type": "stream",
     "text": [
      "tensor([[[[ 1.7650,  0.9806],\n",
      "          [-0.5883,  0.1961]],\n",
      "\n",
      "         [[-1.3728, -0.5883],\n",
      "          [-0.9806,  0.5883]]]], grad_fn=<NativeLayerNormBackward0>)\n"
     ]
    }
   ],
   "source": [
    "input = torch.tensor(data,dtype=torch.float)\n",
    "layer_norm = torch.nn.LayerNorm([C, H, W])\n",
    "output = layer_norm(input)\n",
    "print(output)"
   ]
  },
  {
   "cell_type": "markdown",
   "id": "483d372e",
   "metadata": {},
   "source": [
    "## self-implementation"
   ]
  },
  {
   "cell_type": "code",
   "execution_count": 6,
   "id": "99bdf9e0",
   "metadata": {},
   "outputs": [
    {
     "name": "stdout",
     "output_type": "stream",
     "text": [
      "(1, 2, 2, 2)\n",
      "[[8. 2.]\n",
      " [0. 1.]]\n",
      "[[6. 4.]\n",
      " [2. 5.]]\n"
     ]
    }
   ],
   "source": [
    "import numpy as np\n",
    "\n",
    "N, C, H, W = 1, 2, 2, 2\n",
    "data =  np.zeros((N, C, H, W))\n",
    "data[0,0,:,:] = np.array([[8, 6],\n",
    "                          [2, 4]])\n",
    "data[0,1,:,:] = np.array([[0, 2],\n",
    "                          [1, 5]])\n",
    "data = data.reshape(1, 2, 2, 2)  #H, W, C\n",
    "print(data.shape)\n",
    "print(data[0,:,:,0])\n",
    "print(data[0,:,:,1])"
   ]
  },
  {
   "cell_type": "code",
   "execution_count": 7,
   "id": "0e436770",
   "metadata": {},
   "outputs": [
    {
     "name": "stdout",
     "output_type": "stream",
     "text": [
      "[3.5]\n",
      "[2.54950976]\n"
     ]
    }
   ],
   "source": [
    "eps = 0.0 #1e-5\n",
    "\n",
    "mean = data.mean(axis=(1, 2, 3))\n",
    "std  = np.sqrt(data.var(axis=(1, 2, 3)) + eps)\n",
    "\n",
    "print(mean)\n",
    "print(std)"
   ]
  },
  {
   "cell_type": "code",
   "execution_count": 8,
   "id": "3e836241",
   "metadata": {},
   "outputs": [
    {
     "name": "stdout",
     "output_type": "stream",
     "text": [
      "[[8. 6.]\n",
      " [2. 4.]]\n",
      "[[0. 2.]\n",
      " [1. 5.]]\n"
     ]
    }
   ],
   "source": [
    "output = (data - mean) / std\n",
    "print(data[0,0,:,:])\n",
    "print(data[0,1,:,:])"
   ]
  },
  {
   "cell_type": "code",
   "execution_count": null,
   "id": "a347ef11",
   "metadata": {},
   "outputs": [],
   "source": []
  },
  {
   "cell_type": "code",
   "execution_count": null,
   "id": "f5d81833-2451-4b7d-b6ba-aa7343273f8b",
   "metadata": {},
   "outputs": [],
   "source": []
  }
 ],
 "metadata": {
  "kernelspec": {
   "display_name": "Python 3 (ipykernel)",
   "language": "python",
   "name": "python3"
  },
  "language_info": {
   "codemirror_mode": {
    "name": "ipython",
    "version": 3
   },
   "file_extension": ".py",
   "mimetype": "text/x-python",
   "name": "python",
   "nbconvert_exporter": "python",
   "pygments_lexer": "ipython3",
   "version": "3.11.5"
  }
 },
 "nbformat": 4,
 "nbformat_minor": 5
}
