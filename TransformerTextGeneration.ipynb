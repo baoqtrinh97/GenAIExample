{
 "cells": [
  {
   "cell_type": "code",
   "execution_count": null,
   "id": "b5282de8",
   "metadata": {},
   "outputs": [],
   "source": [
    "import requests\n",
    "import os\n",
    "import zipfile\n",
    "\n",
    "# Define paths\n",
    "base_path = os.path.join(os.getcwd(), \"Dataset\", \"Text_Generation\")\n",
    "os.makedirs(base_path, exist_ok=True)  # Create the folder if it doesn't exist\n",
    "dataset_path = os.path.join(base_path, \"cornell_movie_dialogs.zip\")\n",
    "extract_path = os.path.join(base_path, \"cornell_movie_dialogs\")\n",
    "\n",
    "# URL of the Cornell Movie Dialogs Dataset\n",
    "url = \"http://www.cs.cornell.edu/~cristian/data/cornell_movie_dialogs_corpus.zip\"\n",
    "\n",
    "# Download the dataset\n",
    "print(\"Downloading Cornell Movie Dialogs dataset...\")\n",
    "response = requests.get(url, stream=True)\n",
    "with open(dataset_path, \"wb\") as file:\n",
    "    for chunk in response.iter_content(chunk_size=1024):\n",
    "        if chunk:\n",
    "            file.write(chunk)\n",
    "print(\"Download complete.\")\n",
    "\n",
    "# Extract the dataset\n",
    "print(\"Extracting dataset...\")\n",
    "with zipfile.ZipFile(dataset_path, \"r\") as zip_ref:\n",
    "    zip_ref.extractall(extract_path)\n",
    "print(\"Extraction complete.\")\n",
    "\n",
    "# Clean up the zip file\n",
    "os.remove(dataset_path)\n",
    "print(\"Dataset is ready at:\", extract_path)"
   ]
  }
 ],
 "metadata": {
  "kernelspec": {
   "display_name": "311",
   "language": "python",
   "name": "python3"
  },
  "language_info": {
   "name": "python",
   "version": "3.11.10"
  }
 },
 "nbformat": 4,
 "nbformat_minor": 5
}
